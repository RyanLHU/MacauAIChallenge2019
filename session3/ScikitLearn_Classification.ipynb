{
 "cells": [
  {
   "cell_type": "markdown",
   "metadata": {},
   "source": [
    "# Classification using Scikit-Learn\n",
    "\n",
    "<!--我们简单介绍Python的Scikit-Learn包以及里面的3个分类器：Linear SVM, Random Forest和K-Nearest Neighbors-->\n",
    "We briefly introduce the classifiers in Scikit-Learn: LinearSVM, Random Forest and K-Nearest Neighbors\n",
    "\n",
    "## Linear Support Vector Machine\n",
    "\n",
    "<!--### Motivation\n",
    "假设某些给定的数据点各自属于两个类之一，而目标是确定新数据点将在哪个类中。\n",
    "对于支持向量机来说，数据点被视为向量，而我们想知道是否可以用一些超平面来分开这些点。\n",
    "可能有许多超平面可以把数据分类，而最佳超平面的一个合理选择是以最大间隔把两个类分开的超平面。\n",
    "因此，我们要选择能够让到每边最近的数据点的距离最大化的超平面。\n",
    "SVM就是通过找到满足这些条件的超平面来完成数据分类任务。-->\n",
    "\n",
    "### <!--用法--> Usage\n",
    "\n",
    "The grammer of using Linear SVM in Scikit-Learn is as follows, \n",
    "<!--在Scikit-Learn (sklearn) 中，内置的线性SVM分类器通过如下语句来调用：-->"
   ]
  },
  {
   "cell_type": "code",
   "execution_count": null,
   "metadata": {},
   "outputs": [],
   "source": [
    "# NOT FOR RUN\n",
    "clf = svm.SVC(kernel='linear')"
   ]
  },
  {
   "cell_type": "markdown",
   "metadata": {},
   "source": [
    "or"
   ]
  },
  {
   "cell_type": "code",
   "execution_count": null,
   "metadata": {},
   "outputs": [],
   "source": [
    "# NOT FOR RUN\n",
    "clf = svm.LinearSVC()"
   ]
  },
  {
   "cell_type": "markdown",
   "metadata": {},
   "source": [
    "<!--其中，这两者是类似的。针对线性SVM，我们用后者作为例子。\n",
    "我们大多数情况下只需要调节一个参数：惩罚项C， 默认C = 1.0。\n",
    "因此，一个通常的线性SVM分类器表示如下：-->\n",
    "Both of these two style are OK.\n",
    "\n",
    "By adding the parameter into the classiffier, here we use the second one as the example:"
   ]
  },
  {
   "cell_type": "code",
   "execution_count": null,
   "metadata": {},
   "outputs": [],
   "source": [
    "# NOT FOR RUN\n",
    "clf = svm.LinearSVC(C = 100)"
   ]
  },
  {
   "cell_type": "markdown",
   "metadata": {},
   "source": [
    "<!--这样，一个线性SVM分类器就搭建好了，只要有训练数据X_train和对应的标签y_train，我们就能训练一个线性SVM分类器：-->\n",
    "Now we need to fit the classifier by the training data:"
   ]
  },
  {
   "cell_type": "code",
   "execution_count": null,
   "metadata": {},
   "outputs": [],
   "source": [
    "# NOT FOR RUN\n",
    "clf.fit(X_train, y_train)"
   ]
  },
  {
   "cell_type": "markdown",
   "metadata": {},
   "source": [
    "<!--下面我们来一遍完整的过程。-->\n",
    "\n",
    "### <!--完整过程--> A total example \n",
    "\n",
    "<!--首先，我们获取一些iris植物的特征，并且取前两个特征作为我们的数据：-->\n",
    "For this example, we applied the **iris** data as the dataset.\n",
    "\n",
    "We use the first two features of iris:"
   ]
  },
  {
   "cell_type": "code",
   "execution_count": 3,
   "metadata": {},
   "outputs": [],
   "source": [
    "# Load iris\n",
    "from sklearn.datasets import load_iris\n",
    "iris = load_iris()\n",
    "X = iris.data[:, :2]\n",
    "y = iris.target"
   ]
  },
  {
   "cell_type": "markdown",
   "metadata": {},
   "source": [
    "<!--我们来看下我们的iris数据长什么样：-->\n",
    "Now let's see what our data looks like:"
   ]
  },
  {
   "cell_type": "code",
   "execution_count": 4,
   "metadata": {},
   "outputs": [
    {
     "name": "stdout",
     "output_type": "stream",
     "text": [
      "Total sample number in the dataset: 150\n",
      "Total class number in the dataset: 3\n"
     ]
    },
    {
     "data": {
      "text/plain": [
       "<matplotlib.collections.PathCollection at 0x2510a0d65c0>"
      ]
     },
     "execution_count": 4,
     "metadata": {},
     "output_type": "execute_result"
    },
    {
     "data": {
      "image/png": "[encoded data removed]",
      "text/plain": [
       "<Figure size 432x288 with 1 Axes>"
      ]
     },
     "metadata": {
      "needs_background": "light"
     },
     "output_type": "display_data"
    }
   ],
   "source": [
    "import numpy as np\n",
    "print (\"Total sample number in the dataset: {}\".format(X.shape[0]))\n",
    "print (\"Total class number in the dataset: {}\".format(len(np.unique(y))))\n",
    "from matplotlib import pyplot as plt\n",
    "%matplotlib inline\n",
    "plt.figure()\n",
    "plt.scatter(X[:,0], X[:,1])"
   ]
  },
  {
   "cell_type": "markdown",
   "metadata": {},
   "source": [
    "<!--然后，我们标准化这些数据：-->\n",
    "Then we standardize these data,"
   ]
  },
  {
   "cell_type": "code",
   "execution_count": 5,
   "metadata": {},
   "outputs": [],
   "source": [
    "from sklearn.preprocessing import StandardScaler\n",
    "X = StandardScaler().fit_transform(X)"
   ]
  },
  {
   "cell_type": "markdown",
   "metadata": {},
   "source": [
    "<!--接下来，我们把这些数据随机分成训练集和测试集：-->\n",
    "After that, we separate these data into training set and testing set by a random approach with a proportion"
   ]
  },
  {
   "cell_type": "code",
   "execution_count": 6,
   "metadata": {},
   "outputs": [],
   "source": [
    "from sklearn.model_selection import train_test_split\n",
    "X_train, X_test, y_train, y_test = train_test_split(X, y, test_size = 0.4, random_state = 2)"
   ]
  },
  {
   "cell_type": "markdown",
   "metadata": {},
   "source": [
    "<!--这里我们来看一下测试数据的样子：-->\n",
    "Let's see the data after the splitting:"
   ]
  },
  {
   "cell_type": "code",
   "execution_count": 7,
   "metadata": {},
   "outputs": [
    {
     "name": "stdout",
     "output_type": "stream",
     "text": [
      "Training Sample: 90\n",
      "Test Sample: 60\n"
     ]
    },
    {
     "data": {
      "text/plain": [
       "<matplotlib.collections.PathCollection at 0x25109812b70>"
      ]
     },
     "execution_count": 7,
     "metadata": {},
     "output_type": "execute_result"
    },
    {
     "data": {
      "image/png": "[encoded data removed]",
      "text/plain": [
       "<Figure size 432x288 with 1 Axes>"
      ]
     },
     "metadata": {
      "needs_background": "light"
     },
     "output_type": "display_data"
    }
   ],
   "source": [
    "print (\"Training Sample: {}\".format(len(y_train)))\n",
    "print (\"Test Sample: {}\".format(len(y_test)))\n",
    "plt.figure()\n",
    "plt.scatter(X_test[:,0], X_test[:,1])"
   ]
  },
  {
   "cell_type": "markdown",
   "metadata": {},
   "source": [
    "<!--下面我们就可以用刚才提到的方法来建立一个线性SVM分类器并且训练它：-->\n",
    "Now we can train a clssifier by the training data,"
   ]
  },
  {
   "cell_type": "code",
   "execution_count": 8,
   "metadata": {},
   "outputs": [
    {
     "data": {
      "text/plain": [
       "LinearSVC(C=100, class_weight=None, dual=True, fit_intercept=True,\n",
       "     intercept_scaling=1, loss='squared_hinge', max_iter=1000,\n",
       "     multi_class='ovr', penalty='l2', random_state=None, tol=0.0001,\n",
       "     verbose=0)"
      ]
     },
     "execution_count": 8,
     "metadata": {},
     "output_type": "execute_result"
    }
   ],
   "source": [
    "from sklearn import svm\n",
    "svmclf = svm.LinearSVC(C = 100)\n",
    "svmclf.fit(X_train, y_train)"
   ]
  },
  {
   "cell_type": "markdown",
   "metadata": {},
   "source": [
    "<!--接下来，我们可以用这个分类器来预测我们的测试数据并且得到相应的分类得分：-->\n",
    "We can see the classification score on the testing set,"
   ]
  },
  {
   "cell_type": "code",
   "execution_count": 9,
   "metadata": {},
   "outputs": [
    {
     "name": "stdout",
     "output_type": "stream",
     "text": [
      "The Linear SVM classification mean accuracy is 80.0%.\n"
     ]
    }
   ],
   "source": [
    "svm_y_predicted = svmclf.predict(X_test)\n",
    "score = svmclf.score(X_test, y_test)\n",
    "\n",
    "print (\"The Linear SVM classification mean accuracy is {}%.\".format(score*100))"
   ]
  },
  {
   "cell_type": "markdown",
   "metadata": {},
   "source": [
    "<!--我们可以根据预测的分类结果画出测试数据集的数据分布：-->\n",
    "Also, we can plot the classification result on the testing set:"
   ]
  },
  {
   "cell_type": "code",
   "execution_count": 10,
   "metadata": {},
   "outputs": [
    {
     "data": {
      "text/plain": [
       "<matplotlib.collections.PathCollection at 0x25108a50160>"
      ]
     },
     "execution_count": 10,
     "metadata": {},
     "output_type": "execute_result"
    },
    {
     "data": {
      "image/png": "[encoded data removed]",
      "text/plain": [
       "<Figure size 432x288 with 1 Axes>"
      ]
     },
     "metadata": {
      "needs_background": "light"
     },
     "output_type": "display_data"
    }
   ],
   "source": [
    "SVM_Class_One = np.where(svm_y_predicted==0)\n",
    "SVM_Class_Two = np.where(svm_y_predicted==1)\n",
    "SVM_Class_Three = np.where(svm_y_predicted==2)\n",
    "\n",
    "plt.figure()\n",
    "plt.scatter(X_test[SVM_Class_One,0], X_test[SVM_Class_One,1])\n",
    "plt.scatter(X_test[SVM_Class_Two,0], X_test[SVM_Class_Two,1])\n",
    "plt.scatter(X_test[SVM_Class_Three,0], X_test[SVM_Class_Three,1])"
   ]
  },
  {
   "cell_type": "markdown",
   "metadata": {},
   "source": [
    "## Random Forest <!--随机森林-->\n",
    "\n",
    "<!--### 动机\n",
    "决策树可以很好的帮助人们完成各种决策任务，但是在很多情况下，单独一棵树来决策并不是什么明智的选择。\n",
    "在这种情况下，通过某种手段把多个决策树集合起来会得到更好的结果。\n",
    "随机森林就是一个包含多个决策树的分类器，并且其输出的类别是由单个树输出的类别的**众数**决定。-->\n",
    "\n",
    "### <!--用法-->Usage\n",
    "<!--在Scikit-Learn里面，随机森林分类器通过如下语句调用：-->\n",
    "Random Forest classifier can be called in Scikit-Learn by the following code:"
   ]
  },
  {
   "cell_type": "code",
   "execution_count": null,
   "metadata": {},
   "outputs": [],
   "source": [
    "# NOT FOR RUN\n",
    "from sklearn.ensemble import RandomForestClassifier as RF\n",
    "clf = RF()"
   ]
  },
  {
   "cell_type": "markdown",
   "metadata": {},
   "source": [
    "<!--随机森林里面的参数比较多，我们经常调节如下几个参数：\n",
    "+ *n_estimators*: 这个参数代表森林中树的个数，默认是10。\n",
    "+ *max_depth*： 单个树的最大深度（节点层数），默认是None，不建议调太大。\n",
    "+ *n_jobs*： 并行化参数。**Windows**请无视， **Linux**和**Mac**可以设置为-1, 表示所有的CPU物理核都参与。-->\n",
    "\n",
    "There are some parameters we can tune for better result:\n",
    "+ *n_estimators*: the tree number of the forest, default = 10\n",
    "+ *max_depth*： max depth of single tree\n",
    "+ *n_jobs*： parameter for parallalization. **Works fine only in Mac/Linux system, not in Windows**\n",
    "\n",
    "<!--一个看起来没啥问题的随机森林如下：-->\n",
    "So a random forest classifier that seems all right is just like:"
   ]
  },
  {
   "cell_type": "code",
   "execution_count": null,
   "metadata": {},
   "outputs": [],
   "source": [
    "# NOT FOR RUN\n",
    "clf = RF(n_estimators=100, max_depth=3)"
   ]
  },
  {
   "cell_type": "markdown",
   "metadata": {},
   "source": [
    "<!--同样，我们也是fit()函数来训练这个分类器：-->\n",
    "Also, we use *fit()* to train the classifier,"
   ]
  },
  {
   "cell_type": "code",
   "execution_count": null,
   "metadata": {},
   "outputs": [],
   "source": [
    "# NOT FOR RUN\n",
    "clf.fit(X_train, y_train)"
   ]
  },
  {
   "cell_type": "markdown",
   "metadata": {},
   "source": [
    "### <!--完整过程--> A totoal example for Random Forest\n",
    "\n",
    "<!--由于我们在上一个例子里面已经获取了iris数据集并且已经标准化以及分出来了训练集测试集，所以我们现在可以直接来用：-->\n",
    "We can use the iris data loaded in the previous example, so we just call the random forest classifier,"
   ]
  },
  {
   "cell_type": "code",
   "execution_count": 13,
   "metadata": {},
   "outputs": [
    {
     "name": "stdout",
     "output_type": "stream",
     "text": [
      "The Random Forest classification mean accuracy on the testing set is 75.0%.\n"
     ]
    }
   ],
   "source": [
    "from sklearn.ensemble import RandomForestClassifier as RF\n",
    "rfclf = RF(n_estimators = 100, max_depth = 4)\n",
    "rfclf.fit(X_train, y_train)\n",
    "\n",
    "rf_y_predicted = rfclf.predict(X_test)\n",
    "score = rfclf.score(X_test, y_test)\n",
    "print (\"The Random Forest classification mean accuracy on the testing set is {}%.\".format(score*100))"
   ]
  },
  {
   "cell_type": "markdown",
   "metadata": {},
   "source": [
    "<!--在测试集上的测试结果如下图所示：-->\n",
    "We can also plot the classification result,"
   ]
  },
  {
   "cell_type": "code",
   "execution_count": 14,
   "metadata": {},
   "outputs": [
    {
     "data": {
      "text/plain": [
       "<matplotlib.collections.PathCollection at 0x2510a0b1da0>"
      ]
     },
     "execution_count": 14,
     "metadata": {},
     "output_type": "execute_result"
    },
    {
     "data": {
      "image/png": "[encoded data removed]",
      "text/plain": [
       "<Figure size 432x288 with 1 Axes>"
      ]
     },
     "metadata": {
      "needs_background": "light"
     },
     "output_type": "display_data"
    }
   ],
   "source": [
    "RF_Class_One = np.where(rf_y_predicted==0)\n",
    "RF_Class_Two = np.where(rf_y_predicted==1)\n",
    "RF_Class_Three = np.where(rf_y_predicted==2)\n",
    "\n",
    "plt.figure()\n",
    "plt.scatter(X_test[RF_Class_One,0], X_test[RF_Class_One,1])\n",
    "plt.scatter(X_test[RF_Class_Two,0], X_test[RF_Class_Two,1])\n",
    "plt.scatter(X_test[RF_Class_Three,0], X_test[RF_Class_Three,1])"
   ]
  },
  {
   "cell_type": "markdown",
   "metadata": {},
   "source": [
    "## K-Nearest Neighbors \n",
    "\n",
    "<!--### 基本概念\n",
    "对于一个给定的数据集，对新的输入实例，在训练数据集中找到与该实例最邻近的K个实例，这K个实例的多数属于某个类，就把该输入实例分类到这个类中。\n",
    "**类似于现实生活中少数服从多数**-->\n",
    "\n",
    "### <!--用法-->Usage\n",
    "<!--在Scikit-Learn里面，随机森林分类器通过如下语句调用：-->\n",
    "The K-nearest neighbors classifier in Scikit-Learning can be called as follow,"
   ]
  },
  {
   "cell_type": "code",
   "execution_count": null,
   "metadata": {},
   "outputs": [],
   "source": [
    "# NOT FOR RUN\n",
    "from sklearn.neighbors import KNeighborsClassifier as KNN\n",
    "clf = KNN()"
   ]
  },
  {
   "cell_type": "markdown",
   "metadata": {},
   "source": [
    "<!--KNN分类器中，我们需要调节如下参数：\n",
    "+ *n_neighbors*：邻居的数量，默认是5。\n",
    "+ *weights*: 邻居的权重，默认为“uniform”，意思是每个邻居的权重一样，还可以选择“distance”，根据邻居与新实例的距离加权，距离越近，权重越高。\n",
    "一个看起来没问题的KNN如下：-->\n",
    "\n",
    "We need to tune the following two parameters:\n",
    "+ *n_neighbors*：the number of neighbor, default = 5\n",
    "+ *weights*: the weight for the neighbor, and there are only two choises, \"uniform\" and \"distance\". Default is \"uniform\"."
   ]
  },
  {
   "cell_type": "code",
   "execution_count": null,
   "metadata": {},
   "outputs": [],
   "source": [
    "# NOT FOR RUN\n",
    "clf = KNN(n_neighbors = 10, weights = 'distance')\n",
    "clf.fit(X_train, y_train)"
   ]
  },
  {
   "cell_type": "markdown",
   "metadata": {},
   "source": [
    "### <!--完整过程-->A total example for KNN\n",
    "\n",
    "<!--同样，我们用前面已经准备好的iris数据集：-->\n",
    "Also, we use the preloaded iris dataset for KNN."
   ]
  },
  {
   "cell_type": "code",
   "execution_count": 15,
   "metadata": {},
   "outputs": [
    {
     "name": "stdout",
     "output_type": "stream",
     "text": [
      "The K-Nearest Neighbors classification mean accuracy on testing set is 76.66666666666667%.\n"
     ]
    }
   ],
   "source": [
    "from sklearn.neighbors import KNeighborsClassifier as KNN\n",
    "knnclf = KNN(n_neighbors = 10, weights = 'uniform')\n",
    "knnclf.fit(X_train, y_train)\n",
    "\n",
    "knn_y_predicted = knnclf.predict(X_test)\n",
    "score = knnclf.score(X_test, y_test)\n",
    "print (\"The K-Nearest Neighbors classification mean accuracy on testing set is {}%.\".format(score*100))"
   ]
  },
  {
   "cell_type": "markdown",
   "metadata": {},
   "source": [
    "<!--在测试集上的测试结果如下图所示：-->\n",
    "Let's plotting the classification results:"
   ]
  },
  {
   "cell_type": "code",
   "execution_count": 16,
   "metadata": {},
   "outputs": [
    {
     "data": {
      "text/plain": [
       "<matplotlib.collections.PathCollection at 0x2510a249748>"
      ]
     },
     "execution_count": 16,
     "metadata": {},
     "output_type": "execute_result"
    },
    {
     "data": {
      "image/png": "[encoded data removed]",
      "text/plain": [
       "<Figure size 432x288 with 1 Axes>"
      ]
     },
     "metadata": {
      "needs_background": "light"
     },
     "output_type": "display_data"
    }
   ],
   "source": [
    "KNN_Class_One = np.where(knn_y_predicted==0)\n",
    "KNN_Class_Two = np.where(knn_y_predicted==1)\n",
    "KNN_Class_Three = np.where(knn_y_predicted==2)\n",
    "\n",
    "plt.figure()\n",
    "plt.scatter(X_test[KNN_Class_One,0], X_test[KNN_Class_One,1])\n",
    "plt.scatter(X_test[KNN_Class_Two,0], X_test[KNN_Class_Two,1])\n",
    "plt.scatter(X_test[KNN_Class_Three,0], X_test[KNN_Class_Three,1])"
   ]
  },
  {
   "cell_type": "markdown",
   "metadata": {},
   "source": [
    "<!--我们把这3个分类器在测试集上的的结果放在一起：-->\n",
    "We can see the three results together:"
   ]
  },
  {
   "cell_type": "code",
   "execution_count": 17,
   "metadata": {},
   "outputs": [
    {
     "data": {
      "image/png": "[encoded data removed]",
      "text/plain": [
       "<Figure size 1152x288 with 3 Axes>"
      ]
     },
     "metadata": {
      "needs_background": "light"
     },
     "output_type": "display_data"
    }
   ],
   "source": [
    "fig = plt.figure(figsize=(16,4))\n",
    "ax1 = fig.add_subplot(131)\n",
    "ax1.set_title(\"Linear SVM\")\n",
    "ax1.scatter(X_test[SVM_Class_One,0], X_test[SVM_Class_One,1])\n",
    "ax1.scatter(X_test[SVM_Class_Two,0], X_test[SVM_Class_Two,1])\n",
    "ax1.scatter(X_test[SVM_Class_Three,0], X_test[SVM_Class_Three,1])\n",
    "\n",
    "ax2 = fig.add_subplot(132)\n",
    "ax2.set_title(\"RF\")\n",
    "ax2.scatter(X_test[RF_Class_One,0], X_test[RF_Class_One,1])\n",
    "ax2.scatter(X_test[RF_Class_Two,0], X_test[RF_Class_Two,1])\n",
    "ax2.scatter(X_test[RF_Class_Three,0], X_test[RF_Class_Three,1])\n",
    "\n",
    "ax3 = fig.add_subplot(133)\n",
    "ax3.set_title(\"KNN\")\n",
    "ax3.scatter(X_test[KNN_Class_One,0], X_test[KNN_Class_One,1])\n",
    "ax3.scatter(X_test[KNN_Class_Two,0], X_test[KNN_Class_Two,1])\n",
    "ax3.scatter(X_test[KNN_Class_Three,0], X_test[KNN_Class_Three,1])\n",
    "\n",
    "plt.show()"
   ]
  },
  {
   "cell_type": "markdown",
   "metadata": {},
   "source": [
    "## <!--参数调节--> Parameter Tuning\n",
    "\n",
    "<!--上面的三个例子里面的参数都是随机选取的，所以结果不一定很好。\n",
    "现在我们来说一下参数调节。\n",
    "我们使用交叉验证(Cross-Validation)来查看训练好的分类器的性能。\n",
    "Scikit-Learn提供了一个带有交叉验证的网格搜索功能(GridSearchCV)，满足我们的需要：-->\n",
    "In Scikit-Learning, we mainly use the *GridSearchCV* function to tune the parameters. \n",
    "\n",
    "This function also provides a cross validation results."
   ]
  },
  {
   "cell_type": "code",
   "execution_count": null,
   "metadata": {},
   "outputs": [],
   "source": [
    "# NOT FOR RUN\n",
    "from sklearn.model_selection import GridSearchCV\n",
    "clf = GridSearchCV()"
   ]
  },
  {
   "cell_type": "markdown",
   "metadata": {},
   "source": [
    "<!--当然，这个函数是用来调节分类器参数的，所以它需要和分类器一起使用。-->\n",
    "\n",
    "### <!--使用细节--> Prerequisites\n",
    "\n",
    "<!--使用GridSearchCV需要两个前置条件：\n",
    "+ 分类器\n",
    "+ 分类器对应的参数的字典\n",
    "    + 字典例子： params = {'n_estimators': [10, 20, 30, 40, 50], 'max_depth': [2, 3, 5]}-->\n",
    "    \n",
    "Before we use the GridSearchCV, we need two prerequisites:\n",
    "+ classifier\n",
    "+ a list of parameters of the classifier, e.g., params = {'n_estimators': [10, 20, 30, 40, 50], 'max_depth': [2, 3, 5]}\n",
    "    \n",
    "<!--GridSearchCV本身需要注意的参数如下：\n",
    "+ cv : 交叉验证的层数，默认是3-Fold.\n",
    "+ verbose : 显示验证过程中信息的参数，值越高，给的信息越多。推荐为1或者不调节\n",
    "+ n_jobs : 并行化参数。Windows请无视， Linux和Mac可以设置为-1, 表示所有的CPU物理核都参与。-->\n",
    "\n",
    "GridSearchCV also has some parameters:\n",
    "+ cv : the fold used in the cross validation. Default = 3.\n",
    "+ verbose : parameter that controls the shown message during training. Higher value gives more information. Recommanded to 1.\n",
    "+ n_jobs : parameter for parallalization. Works fine only in Mac/Linux system, not in Windows\n",
    "\n",
    "<!--一个看起来没啥问题的GridSearchCV如下所示：-->"
   ]
  },
  {
   "cell_type": "code",
   "execution_count": null,
   "metadata": {},
   "outputs": [],
   "source": [
    "# NOT FOR RUN\n",
    "clf = GridSearchCV(Classifier, Parameters, cv = 5, verbose = 1)\n",
    "clf.fit(X_train, y_train)"
   ]
  },
  {
   "cell_type": "markdown",
   "metadata": {},
   "source": [
    "<!--GridSearchCV提供了 *cv_results_* 这个属性来获取对于拟合好的GridSearchCV的完整结果。\n",
    "这个结果的信息量很大，所以我们可以单独来获取需要的信息。\n",
    "比如，想要最好的分类器以及其对应的参数和交叉验证分数：\n",
    "**请注意， 交叉验证分数是评估分类器性能的一个重要指标，尤其是你没有测试集和验证集的时候！**-->\n",
    "GridSearchCV has a attribute, *cv_results_*, to show the whole fitting results.\n",
    "Here gives some example for showing the results:"
   ]
  },
  {
   "cell_type": "code",
   "execution_count": null,
   "metadata": {},
   "outputs": [],
   "source": [
    "# NOT FOR RUN\n",
    "\n",
    "# The best estimator\n",
    "Best_Classifier = clf.best_estimator_\n",
    "# Mean cross-validated score of the best estimator\n",
    "Score = clf.best_score_\n",
    "# Parameter setting that gave the best results on the hold out data (dict)\n",
    "Parameter = clf.best_params_ "
   ]
  },
  {
   "cell_type": "markdown",
   "metadata": {},
   "source": [
    "<!--当然，以刚才细节为例(cv=5, parameters = 5 * 3), 一共对15种参数组合进行了75次拟合。\n",
    "如果想要看到每一种参数组合对应的cross validation的平均结果结果，可以用下面的方法：-->\n",
    "We can also see the results for each set of parameters"
   ]
  },
  {
   "cell_type": "code",
   "execution_count": null,
   "metadata": {},
   "outputs": [],
   "source": [
    "# NOT FOR RUN\n",
    "means = clf.cv_results_['mean_test_score']\n",
    "stds = clf.cv_results_['std_test_score']\n",
    "for mean, std, params in zip(means, stds, xgbclf.cv_results_['params']):\n",
    "    print(\"%0.3f (+/-%0.03f) for %r\"% (mean, std, params))"
   ]
  },
  {
   "cell_type": "markdown",
   "metadata": {},
   "source": [
    "<!--我们以Random Forest分类器为例子，完整的介绍下GridSearchCV：-->\n",
    "A GridSearchCV sample using Random Forest:"
   ]
  },
  {
   "cell_type": "code",
   "execution_count": null,
   "metadata": {},
   "outputs": [],
   "source": [
    "# NOT FOR RUN\n",
    "from sklearn.ensemble import RandomForestClassifier as RF\n",
    "from sklearn.model_selection import GridSearchCV\n",
    "\n",
    "rfparams = {'n_estimators': [10, 20, 30, 40, 50], 'max_depth': [2, 3, 5]}\n",
    "rfclf = RF()\n",
    "\n",
    "cvclf = GridSearchCV(rfclf, rfparams, cv = 5, verbose = 1, n_jobs = -1)\n",
    "\n",
    "BestClassifier = cvclf.best_estimator_\n",
    "print (\"The cross validated score for the best estimator is {}\".format(cvclf.best_score_))"
   ]
  },
  {
   "cell_type": "markdown",
   "metadata": {},
   "source": [
    "## <!--结果报告-->Results Reporting\n",
    "\n",
    "<!--Scikit-Learn内置有分类结果报告的函数，可以很方便的导出详细的分类结果：-->\n",
    "Scikit-Learning has some result reporting functions:\n",
    "\n",
    "**Classification report** for validation of the classification:"
   ]
  },
  {
   "cell_type": "code",
   "execution_count": null,
   "metadata": {},
   "outputs": [],
   "source": [
    "# NOT FOR RUN\n",
    "from sklearn.metrics import classification_report\n",
    "print (classification_report(y_true, y_pred))"
   ]
  },
  {
   "cell_type": "markdown",
   "metadata": {},
   "source": [
    "<!--如果需要更详细的分类结果，比如某个类的数据有几个分错了，分到了哪一类，可以使用混淆矩阵：-->\n",
    "**Confusion matrix** for detailed classification results."
   ]
  },
  {
   "cell_type": "code",
   "execution_count": null,
   "metadata": {},
   "outputs": [],
   "source": [
    "# NOT FOR RUN\n",
    "from sklearn.metrics import confusion_matrix\n",
    "print (confusion_matrix(y_true, y_pred))"
   ]
  },
  {
   "cell_type": "markdown",
   "metadata": {},
   "source": [
    "## <!--例子一  简单数据集 带有交叉验证并且报告最终分类结果的例子-->Example 1. LinearSVM using Iris data"
   ]
  },
  {
   "cell_type": "code",
   "execution_count": 18,
   "metadata": {},
   "outputs": [
    {
     "name": "stdout",
     "output_type": "stream",
     "text": [
      "Fitting 10 folds for each of 7 candidates, totalling 70 fits\n",
      "The cross validated score for the best estimator is 0.8\n",
      "The best params is set with {'C': 5}\n",
      "===============================\n",
      "0.790 (+/-0.099) for {'C': 1}\n",
      "0.800 (+/-0.096) for {'C': 5}\n",
      "0.800 (+/-0.096) for {'C': 10}\n",
      "0.800 (+/-0.096) for {'C': 20}\n",
      "0.800 (+/-0.096) for {'C': 50}\n",
      "0.781 (+/-0.089) for {'C': 75}\n",
      "0.790 (+/-0.088) for {'C': 100}\n",
      "===============================\n",
      "The classification score is 0.8222222222222222.\n",
      "===============================\n",
      "Classification report: \n",
      "              precision    recall  f1-score   support\n",
      "\n",
      "          0       1.00      1.00      1.00        19\n",
      "          1       0.78      0.54      0.64        13\n",
      "          2       0.65      0.85      0.73        13\n",
      "\n",
      "avg / total       0.83      0.82      0.82        45\n",
      "\n",
      "===============================\n",
      "Confusion matrix: \n",
      " [[19  0  0]\n",
      " [ 0  7  6]\n",
      " [ 0  2 11]]\n"
     ]
    },
    {
     "name": "stderr",
     "output_type": "stream",
     "text": [
      "[Parallel(n_jobs=1)]: Done  70 out of  70 | elapsed:    0.4s finished\n"
     ]
    },
    {
     "data": {
      "image/png": "[encoded data removed]",
      "text/plain": [
       "<Figure size 864x360 with 2 Axes>"
      ]
     },
     "metadata": {
      "needs_background": "light"
     },
     "output_type": "display_data"
    }
   ],
   "source": [
    "import numpy as np\n",
    "from sklearn.model_selection import train_test_split\n",
    "from sklearn.preprocessing import StandardScaler\n",
    "from matplotlib import pyplot as plt\n",
    "from sklearn.model_selection import GridSearchCV\n",
    "from sklearn.metrics import classification_report, confusion_matrix\n",
    "\n",
    "from sklearn.datasets import load_iris\n",
    "from sklearn import svm\n",
    "\n",
    "# Load Iris data\n",
    "iris = load_iris()\n",
    "X = iris.data[:, :2]\n",
    "y = iris.target\n",
    "\n",
    "# Standardize data\n",
    "X = StandardScaler().fit_transform(X)\n",
    "\n",
    "# Generate training and testing data\n",
    "X_train, X_test, y_train, y_test = train_test_split(X, y, test_size = 0.3, random_state = 42)\n",
    "\n",
    "# Create classifier and parameters\n",
    "svmclf = svm.LinearSVC()\n",
    "svmparams = {'C': [1, 5, 10, 20, 50, 75, 100]}\n",
    "\n",
    "# Use GridSearchCV for optimizing\n",
    "clf = GridSearchCV(svmclf, svmparams, cv = 10, verbose = 1)\n",
    "clf.fit(X_train, y_train)\n",
    "\n",
    "# Get the best estimator\n",
    "BestClassifier = clf.best_estimator_\n",
    "# Print the corresponding cross validated score\n",
    "print (\"The cross validated score for the best estimator is {}\".format(clf.best_score_))\n",
    "print (\"The best params is set with {}\".format(clf.best_params_))\n",
    "\n",
    "# Print the details\n",
    "print (\"===============================\")\n",
    "means = clf.cv_results_['mean_test_score']\n",
    "stds = clf.cv_results_['std_test_score']\n",
    "for mean, std, params in zip(means, stds, clf.cv_results_['params']):\n",
    "    print(\"%0.3f (+/-%0.03f) for %r\"% (mean, std, params))\n",
    "print (\"===============================\")\n",
    "\n",
    "# Using testing data and the best estimator to predict the label\n",
    "y_predict = BestClassifier.predict(X_test)\n",
    "score = BestClassifier.score(X_test, y_test)\n",
    "print (\"The classification score is {}.\".format(score))\n",
    "\n",
    "# Reporting the detailed classification result\n",
    "print (\"===============================\\nClassification report: \\n\", classification_report(y_test, y_predict))\n",
    "print (\"===============================\\nConfusion matrix: \\n\", confusion_matrix(y_test, y_predict))\n",
    "\n",
    "# Plotting the classification results\n",
    "# Predicted results\n",
    "Class_One = np.where(y_predict==0)\n",
    "Class_Two = np.where(y_predict==1)\n",
    "Class_Three = np.where(y_predict==2)\n",
    "\n",
    "# Ground truth\n",
    "P_One = np.where(y_test==0)\n",
    "P_Two = np.where(y_test==1)\n",
    "P_Three  = np.where(y_test==2)\n",
    "\n",
    "fig = plt.figure(figsize=(12, 5))\n",
    "ax1 = fig.add_subplot(121)\n",
    "ax1.set_title(\"Predict Result\")\n",
    "ax1.scatter(X_test[Class_One,0], X_test[Class_One,1])\n",
    "ax1.scatter(X_test[Class_Two,0], X_test[Class_Two,1])\n",
    "ax1.scatter(X_test[Class_Three,0], X_test[Class_Three,1])\n",
    "\n",
    "ax2 = fig.add_subplot(122)\n",
    "ax2.set_title(\"True Result\")\n",
    "ax2.scatter(X_test[P_One,0], X_test[P_One,1])\n",
    "ax2.scatter(X_test[P_Two,0], X_test[P_Two,1])\n",
    "ax2.scatter(X_test[P_Three,0], X_test[P_Three,1])\n",
    "\n",
    "plt.show()"
   ]
  },
  {
   "cell_type": "markdown",
   "metadata": {},
   "source": [
    "## <!--例子二 数字图像分类--> Example 2. Digits number recognition\n",
    "\n",
    "<!--下面我们用digits数据库来进行一个关于数字图像的分类任务。\n",
    "关于digits数据库： 由1797张8x8的数字图像的像素组成的数据库。\n",
    "首先，我们导入digits数据库：-->\n",
    "\n",
    "In this example, we use the **digits** dataset.\n",
    "\n",
    "This dataset contains 1797 samples, and each sample is a 8x8 figure.\n",
    "\n",
    "Now we load the dataset:"
   ]
  },
  {
   "cell_type": "code",
   "execution_count": 19,
   "metadata": {},
   "outputs": [
    {
     "name": "stdout",
     "output_type": "stream",
     "text": [
      "Data shape: (1797, 8, 8)\n"
     ]
    }
   ],
   "source": [
    "from sklearn.datasets import load_digits\n",
    "\n",
    "digits = load_digits()\n",
    "images = digits.images\n",
    "labels = digits.target\n",
    "\n",
    "print (\"Data shape: {}\".format(images.shape))"
   ]
  },
  {
   "cell_type": "markdown",
   "metadata": {},
   "source": [
    "<!--这里面，images就是那1797个8x8的像素数据，labels就是那1797个数据对应的数据(0-9).\n",
    "我们来看看这个数据集里面前6个数字是什么：-->\n",
    "\n",
    "Let's see what the first 6 sample looks like,"
   ]
  },
  {
   "cell_type": "code",
   "execution_count": 20,
   "metadata": {},
   "outputs": [
    {
     "data": {
      "image/png": "[encoded data removed]",
      "text/plain": [
       "<Figure size 1080x144 with 6 Axes>"
      ]
     },
     "metadata": {
      "needs_background": "light"
     },
     "output_type": "display_data"
    }
   ],
   "source": [
    "from matplotlib import pyplot as plt\n",
    "%matplotlib inline\n",
    "\n",
    "plt.figure(figsize=(15, 2))\n",
    "for i in range(6):\n",
    "    plt.subplot(1, 6, i + 1)\n",
    "    plt.imshow(images[i, :, :], cmap=plt.cm.gray_r)\n",
    "    plt.title('Labeled\\nNumber: {}'.format(labels[i]))\n",
    "    plt.axis('off')"
   ]
  },
  {
   "cell_type": "markdown",
   "metadata": {},
   "source": [
    "<!--下面我们来训练分类器。 首先，我们得把8x8的数据拉平到1x64并且标准化数据：-->\n",
    "For the classification approach, we need to flatten the data, e.g., change 8x8 to 1x64.\n",
    "\n",
    "Then we need standardize the data:"
   ]
  },
  {
   "cell_type": "code",
   "execution_count": 21,
   "metadata": {},
   "outputs": [],
   "source": [
    "data = images.reshape((len(labels), -1))\n",
    "from sklearn.preprocessing import StandardScaler\n",
    "scaler = StandardScaler().fit(data)\n",
    "data = scaler.transform(data)"
   ]
  },
  {
   "cell_type": "markdown",
   "metadata": {},
   "source": [
    "<!--然后我们需要分出来训练集和测试集：-->\n",
    "After that, we can split the training set and testing set,"
   ]
  },
  {
   "cell_type": "code",
   "execution_count": 22,
   "metadata": {},
   "outputs": [
    {
     "name": "stdout",
     "output_type": "stream",
     "text": [
      "Training Set Sample Number: 1257\n",
      "Testing Set Sample Number: 540\n"
     ]
    }
   ],
   "source": [
    "from sklearn.model_selection import train_test_split\n",
    "X_train, X_test, y_train, y_test = train_test_split(data, labels, test_size = 0.3, random_state = 442)\n",
    "print (\"Training Set Sample Number: {}\".format(X_train.shape[0]))\n",
    "print (\"Testing Set Sample Number: {}\".format(X_test.shape[0]))"
   ]
  },
  {
   "cell_type": "markdown",
   "metadata": {},
   "source": [
    "<!--然后我们随机定义一组Random Forest参数，然后用GridSearchCV来找出来最好的分类器：-->\n",
    "Then we set a set of parameters for Random Forest, and use GridSearchCV to find the best one,"
   ]
  },
  {
   "cell_type": "code",
   "execution_count": 23,
   "metadata": {},
   "outputs": [
    {
     "name": "stdout",
     "output_type": "stream",
     "text": [
      "Fitting 5 folds for each of 12 candidates, totalling 60 fits\n",
      "The best estimator is trained by {'max_depth': 5, 'n_estimators': 100}\n",
      "The cross validated score is 0.9268098647573588\n"
     ]
    },
    {
     "name": "stderr",
     "output_type": "stream",
     "text": [
      "[Parallel(n_jobs=1)]: Done  60 out of  60 | elapsed:    4.2s finished\n"
     ]
    }
   ],
   "source": [
    "from sklearn.model_selection import GridSearchCV\n",
    "from sklearn.ensemble import RandomForestClassifier as RF\n",
    "\n",
    "rfparams = {'n_estimators': [10,20,50,100], 'max_depth': [3, 4, 5]}\n",
    "rfclf = RF()\n",
    "\n",
    "clf = GridSearchCV(rfclf, rfparams, cv = 5, verbose = 1)\n",
    "clf.fit(X_train, y_train)\n",
    "\n",
    "print (\"The best estimator is trained by {}\".format(clf.best_params_))\n",
    "print (\"The cross validated score is {}\".format(clf.best_score_))\n",
    "\n",
    "_b_rf = clf.best_estimator_"
   ]
  },
  {
   "cell_type": "markdown",
   "metadata": {},
   "source": [
    "<!--然后我们用测试集来看看这个分类器的性能：-->\n",
    "Let's see the performance of the classifier,"
   ]
  },
  {
   "cell_type": "code",
   "execution_count": 24,
   "metadata": {},
   "outputs": [
    {
     "name": "stdout",
     "output_type": "stream",
     "text": [
      "The Random Forest classification score on the testing set is 95.56%\n"
     ]
    }
   ],
   "source": [
    "y_pred = _b_rf.predict(X_test)\n",
    "print (\"The Random Forest classification score on the testing set is {}%\".format(round(_b_rf.score(X_test, y_test),4)*100))"
   ]
  },
  {
   "cell_type": "markdown",
   "metadata": {},
   "source": [
    "<!--下面我们来看看各个详细的分类报告：-->\n",
    "Oh, this score is pretty high.\n",
    "Let's see the classification report:"
   ]
  },
  {
   "cell_type": "code",
   "execution_count": 26,
   "metadata": {},
   "outputs": [
    {
     "name": "stdout",
     "output_type": "stream",
     "text": [
      "Classification report:\n",
      "             precision    recall  f1-score   support\n",
      "\n",
      "          0       0.98      0.97      0.97        59\n",
      "          1       0.94      0.98      0.96        46\n",
      "          2       0.96      0.96      0.96        54\n",
      "          3       0.93      0.93      0.93        55\n",
      "          4       0.94      0.98      0.96        66\n",
      "          5       0.96      0.96      0.96        49\n",
      "          6       0.98      1.00      0.99        58\n",
      "          7       0.97      0.98      0.97        57\n",
      "          8       0.94      0.87      0.90        53\n",
      "          9       0.95      0.91      0.93        43\n",
      "\n",
      "avg / total       0.96      0.96      0.96       540\n",
      "\n",
      "Confusion matrix:\n",
      "[[57  0  0  0  2  0  0  0  0  0]\n",
      " [ 0 45  0  1  0  0  0  0  0  0]\n",
      " [ 0  0 52  0  0  0  0  0  0  2]\n",
      " [ 1  1  0 51  0  0  0  0  2  0]\n",
      " [ 0  0  0  0 65  0  0  1  0  0]\n",
      " [ 0  0  0  0  1 47  1  0  0  0]\n",
      " [ 0  0  0  0  0  0 58  0  0  0]\n",
      " [ 0  0  0  0  1  0  0 56  0  0]\n",
      " [ 0  2  2  2  0  1  0  0 46  0]\n",
      " [ 0  0  0  1  0  1  0  1  1 39]]\n"
     ]
    }
   ],
   "source": [
    "from sklearn.metrics import classification_report,confusion_matrix\n",
    "print (\"Classification report:\")\n",
    "print (classification_report(y_test, y_pred))\n",
    "print (\"Confusion matrix:\")\n",
    "print (confusion_matrix(y_test, y_pred))"
   ]
  },
  {
   "cell_type": "markdown",
   "metadata": {},
   "source": [
    "<!--这样，这个任务就完成啦！我们来看看测试集的前几个数字是什么：-->\n",
    "Done! We can also see the first 6 prediction numbers:"
   ]
  },
  {
   "cell_type": "code",
   "execution_count": 27,
   "metadata": {},
   "outputs": [
    {
     "data": {
      "image/png": "[encoded data removed]",
      "text/plain": [
       "<Figure size 1080x144 with 6 Axes>"
      ]
     },
     "metadata": {
      "needs_background": "light"
     },
     "output_type": "display_data"
    }
   ],
   "source": [
    "plt.figure(figsize=(15, 2))\n",
    "for i in range(6):\n",
    "    index = i\n",
    "    plt.subplot(1, 6, i + 1)\n",
    "    plt.imshow(scaler.inverse_transform(X_test[index, :]).reshape((8,8)), cmap=plt.cm.gray_r)\n",
    "    plt.title('Label :{}\\nPredicted: {}'.format(y_test[index], y_pred[index]))\n",
    "    plt.axis('off')"
   ]
  },
  {
   "cell_type": "markdown",
   "metadata": {},
   "source": [
    "### <!--完整版：--> Release version"
   ]
  },
  {
   "cell_type": "code",
   "execution_count": 28,
   "metadata": {},
   "outputs": [
    {
     "name": "stdout",
     "output_type": "stream",
     "text": [
      "The first 6 digits in the training set:\n"
     ]
    },
    {
     "data": {
      "image/png": "[encoded data removed]",
      "text/plain": [
       "<Figure size 1080x144 with 6 Axes>"
      ]
     },
     "metadata": {
      "needs_background": "light"
     },
     "output_type": "display_data"
    },
    {
     "name": "stdout",
     "output_type": "stream",
     "text": [
      "Fitting 5 folds for each of 12 candidates, totalling 60 fits\n"
     ]
    },
    {
     "name": "stderr",
     "output_type": "stream",
     "text": [
      "[Parallel(n_jobs=1)]: Done  60 out of  60 | elapsed:    4.2s finished\n"
     ]
    },
    {
     "name": "stdout",
     "output_type": "stream",
     "text": [
      "The Random Forest classification score on the testing set is 94.63000000000001%\n",
      "Classification report:\n",
      "             precision    recall  f1-score   support\n",
      "\n",
      "          0       0.98      0.97      0.97        59\n",
      "          1       0.90      0.98      0.94        46\n",
      "          2       0.96      0.96      0.96        54\n",
      "          3       0.96      0.89      0.92        55\n",
      "          4       0.94      0.98      0.96        66\n",
      "          5       0.94      0.94      0.94        49\n",
      "          6       0.98      0.98      0.98        58\n",
      "          7       0.98      0.96      0.97        57\n",
      "          8       0.89      0.89      0.89        53\n",
      "          9       0.90      0.88      0.89        43\n",
      "\n",
      "avg / total       0.95      0.95      0.95       540\n",
      "\n",
      "Confusion matrix:\n",
      "[[57  0  0  0  1  0  0  0  1  0]\n",
      " [ 0 45  0  0  0  0  0  0  0  1]\n",
      " [ 0  0 52  0  0  0  0  0  0  2]\n",
      " [ 1  1  0 49  0  1  0  0  3  0]\n",
      " [ 0  0  0  0 65  0  0  0  1  0]\n",
      " [ 0  0  0  0  1 46  1  0  1  0]\n",
      " [ 0  1  0  0  0  0 57  0  0  0]\n",
      " [ 0  0  0  0  1  0  0 55  0  1]\n",
      " [ 0  3  2  0  0  1  0  0 47  0]\n",
      " [ 0  0  0  2  1  1  0  1  0 38]]\n",
      "\n",
      "The first 6 digits in the testing set:\n"
     ]
    },
    {
     "data": {
      "image/png": "[encoded data removed]",
      "text/plain": [
       "<Figure size 1080x144 with 6 Axes>"
      ]
     },
     "metadata": {
      "needs_background": "light"
     },
     "output_type": "display_data"
    }
   ],
   "source": [
    "%matplotlib inline\n",
    "\n",
    "import numpy as np\n",
    "from sklearn.datasets import load_digits\n",
    "from sklearn.preprocessing import StandardScaler\n",
    "from sklearn.model_selection import train_test_split\n",
    "from sklearn.model_selection import GridSearchCV\n",
    "from sklearn.ensemble import RandomForestClassifier as RF\n",
    "from sklearn.metrics import classification_report,confusion_matrix\n",
    "from matplotlib import pyplot as plt\n",
    "\n",
    "# Load digits\n",
    "digits = load_digits()\n",
    "images = digits.images\n",
    "labels = digits.target\n",
    "\n",
    "# Standardize data\n",
    "data = images.reshape((len(labels), -1))\n",
    "\n",
    "scaler = StandardScaler().fit(data)\n",
    "data = scaler.transform(data)\n",
    "\n",
    "# Generate training set and testing set\n",
    "X_train, X_test, y_train, y_test = train_test_split(data, labels, test_size = 0.3, random_state = 442)\n",
    "\n",
    "print (\"The first 6 digits in the training set:\")\n",
    "plt.figure(figsize=(15, 2))\n",
    "for i in range(6):\n",
    "    plt.subplot(1, 6, i + 1)\n",
    "    plt.imshow(images[i, :, :], cmap=plt.cm.gray_r)\n",
    "    plt.title('Labeled\\nNumber: {}'.format(labels[i]))\n",
    "    plt.axis('off')\n",
    "plt.show()\n",
    "\n",
    "# Set params and classifier for GridSearchCV\n",
    "rfparams = {'n_estimators': [10,20,50,100], 'max_depth': [3, 4, 5]}\n",
    "rfclf = RF()\n",
    "\n",
    "clf = GridSearchCV(rfclf, rfparams, cv = 5, verbose = 1)\n",
    "clf.fit(X_train, y_train)\n",
    "\n",
    "# Get the best classifier\n",
    "_b_rf = clf.best_estimator_\n",
    "\n",
    "y_pred = _b_rf.predict(X_test)\n",
    "print (\"The Random Forest classification score on the testing set is {}%\".format(round(_b_rf.score(X_test, y_test),4)*100))\n",
    "\n",
    "print (\"Classification report:\")\n",
    "print (classification_report(y_test, y_pred))\n",
    "print (\"Confusion matrix:\")\n",
    "print (confusion_matrix(y_test, y_pred))\n",
    "\n",
    "print (\"\\nThe first 6 digits in the testing set:\")\n",
    "plt.figure(figsize=(15, 2))\n",
    "for i in range(6):\n",
    "    plt.subplot(1, 6, i + 1)\n",
    "    plt.imshow(scaler.inverse_transform(X_test[i, :]).reshape((8,8)), cmap=plt.cm.gray_r)\n",
    "    plt.title('Label :{}\\nPredicted: {}'.format(y_test[i], y_pred[i]))\n",
    "    plt.axis('off')\n",
    "    \n",
    "plt.show()"
   ]
  },
  {
   "cell_type": "markdown",
   "metadata": {},
   "source": [
    "## <!--例子三 人脸识别-->Example 3. Face recognition\n",
    "\n",
    "<!--人脸识别是比较高级的分类任务。\n",
    "由于人脸数据库有点大(200mb+),所以并没有直接包含在Scikit-Learn中，但是Scikit-Learn提供了获取一个人脸数据库的方法：**fetch_lfw_people**。\n",
    "但是由于lfw_people是个挺大的数据库，包含13233个样本，每个样本的特征维度是5828，所以作为例子，我们只取部分来使用：-->\n",
    "Face recognition is well required in our daily life.\n",
    "\n",
    "Here we prepare a example for the face recognition. We use the **lfw_people** as our dataset.\n",
    "\n",
    "First, we load the parts of the data (whole data is too large),"
   ]
  },
  {
   "cell_type": "code",
   "execution_count": 29,
   "metadata": {},
   "outputs": [
    {
     "name": "stdout",
     "output_type": "stream",
     "text": [
      "Generated samples: 1560\n",
      "Features for each sample: 1850\n",
      "Image size for each sample: (50, 37)\n",
      "Total classes: 12\n",
      "['Ariel Sharon' 'Colin Powell' 'Donald Rumsfeld' 'George W Bush'\n",
      " 'Gerhard Schroeder' 'Hugo Chavez' 'Jacques Chirac' 'Jean Chretien'\n",
      " 'John Ashcroft' 'Junichiro Koizumi' 'Serena Williams' 'Tony Blair']\n"
     ]
    }
   ],
   "source": [
    "from sklearn.datasets import fetch_lfw_people\n",
    "import numpy as np\n",
    "\n",
    "lfw_people = fetch_lfw_people(min_faces_per_person=50, resize=0.4)\n",
    "\n",
    "X = lfw_people.data\n",
    "y = lfw_people.target\n",
    "name = lfw_people.target_names\n",
    "images = lfw_people.images\n",
    "imgsize = images.shape[1:]\n",
    "\n",
    "print (\"Generated samples: {}\".format(X.shape[0]))\n",
    "print (\"Features for each sample: {}\".format(X.shape[1]))\n",
    "print (\"Image size for each sample: {}\".format(imgsize))\n",
    "print (\"Total classes: {}\".format(len(np.unique(y))))\n",
    "print (name)"
   ]
  },
  {
   "cell_type": "markdown",
   "metadata": {},
   "source": [
    "<!--这样我们就生成好了要使用的数据。我们来看看这个数据库前几张的图片是什么：-->\n",
    "Let's see the peoples in our dataset."
   ]
  },
  {
   "cell_type": "code",
   "execution_count": 30,
   "metadata": {},
   "outputs": [
    {
     "data": {
      "image/png": "[encoded data removed]",
      "text/plain": [
       "<Figure size 1080x288 with 4 Axes>"
      ]
     },
     "metadata": {
      "needs_background": "light"
     },
     "output_type": "display_data"
    }
   ],
   "source": [
    "from matplotlib import pyplot as plt\n",
    "%matplotlib inline\n",
    "\n",
    "plt.figure(figsize=(15, 4))\n",
    "for i in range(4):\n",
    "    plt.subplot(1, 4, i + 1)\n",
    "    plt.imshow(images[i, :, :], cmap=plt.cm.gray)\n",
    "    plt.title(name[y[i]])\n",
    "    plt.axis('off')\n",
    "plt.show()"
   ]
  },
  {
   "cell_type": "markdown",
   "metadata": {},
   "source": [
    "<!--我们观察到数据集X本身就已经是 *样本数 x 特征数* 这样的格式，所以我们就可以直接标准化数据：-->\n",
    "Since we have already got the data with shape *[n_sample * n_feature]*, we can just standardize the data,"
   ]
  },
  {
   "cell_type": "code",
   "execution_count": 31,
   "metadata": {},
   "outputs": [],
   "source": [
    "from sklearn.preprocessing import StandardScaler\n",
    "\n",
    "scaler = StandardScaler().fit(X)\n",
    "X = scaler.transform(X)"
   ]
  },
  {
   "cell_type": "markdown",
   "metadata": {},
   "source": [
    "<!--然后我们要把这个数据集X分成训练集和测试集：-->\n",
    "And split the data,"
   ]
  },
  {
   "cell_type": "code",
   "execution_count": 32,
   "metadata": {},
   "outputs": [],
   "source": [
    "from sklearn.model_selection import train_test_split\n",
    "\n",
    "X_train, X_test, y_train, y_test = train_test_split(\n",
    "    X, y, test_size = 0.25, random_state = 42)"
   ]
  },
  {
   "cell_type": "markdown",
   "metadata": {},
   "source": [
    "<!--<font color=blue>但是这里**有个问题**，每个样本的特征数量是1850，为了节省时间，这里我们用主成分分析（**PCA**）来进行数据降维。</font>\n",
    "维度50是个看上去不错的选择。-->\n",
    "\n",
    "But there is a situation. The n_feature is 1850, which is large enough.\n",
    "\n",
    "So here we use <font color=blue>**PCA**</font> to reduce the dimension,e.g., 50 seems good."
   ]
  },
  {
   "cell_type": "code",
   "execution_count": 33,
   "metadata": {},
   "outputs": [],
   "source": [
    "from sklearn.decomposition import PCA\n",
    "\n",
    "n_compoents = 50\n",
    "pca = PCA(n_compoents).fit(X)\n",
    "\n",
    "X_train_pca = pca.transform(X_train)\n",
    "X_test_pca = pca.transform(X_test)"
   ]
  },
  {
   "cell_type": "markdown",
   "metadata": {},
   "source": [
    "<!--我们可以看看原始的数据经过降维以后是什么样子：-->\n",
    "We can see the eigenface for the data,"
   ]
  },
  {
   "cell_type": "code",
   "execution_count": 34,
   "metadata": {},
   "outputs": [
    {
     "data": {
      "image/png": "[encoded data removed]",
      "text/plain": [
       "<Figure size 1080x288 with 4 Axes>"
      ]
     },
     "metadata": {
      "needs_background": "light"
     },
     "output_type": "display_data"
    }
   ],
   "source": [
    "eigenfaces = pca.components_.reshape((n_compoents, imgsize[0], imgsize[1]))\n",
    "\n",
    "plt.figure(figsize=(15, 4))\n",
    "for i in range(4):\n",
    "    plt.subplot(1, 4, i + 1)\n",
    "    plt.imshow(eigenfaces[i], cmap=plt.cm.gray)\n",
    "    plt.title(\"Eigen face {}\".format(i))\n",
    "    plt.axis('off')\n",
    "plt.show()"
   ]
  },
  {
   "cell_type": "markdown",
   "metadata": {},
   "source": [
    "<!--下面我们就可以用GridSearchCV来训练一个分类器了，比如LinearSVM。\n",
    "然后我们找出其中最好的分类器并将其用在测试集上：-->\n",
    "Now we can apply GridSearchCV for SVM to get the best estimator,"
   ]
  },
  {
   "cell_type": "code",
   "execution_count": 35,
   "metadata": {},
   "outputs": [
    {
     "name": "stdout",
     "output_type": "stream",
     "text": [
      "Fitting 5 folds for each of 15 candidates, totalling 75 fits\n",
      "The best params are {'C': 1000.0, 'gamma': 0.0001}\n",
      "The corresponding cross validated score is 0.7452991452991453\n",
      "The SVM classification score for the testing set is 0.7769230769230769\n"
     ]
    },
    {
     "name": "stderr",
     "output_type": "stream",
     "text": [
      "[Parallel(n_jobs=1)]: Done  75 out of  75 | elapsed:   15.6s finished\n"
     ]
    }
   ],
   "source": [
    "from sklearn.model_selection import GridSearchCV\n",
    "from sklearn import svm\n",
    "\n",
    "svmparams = {'C': [1e3, 5e3, 1e4, 5e4, 1e5], 'gamma':[0.0001, 0.001, 0.01]}\n",
    "svmclf = svm.SVC(kernel='rbf')\n",
    "\n",
    "\n",
    "clf = GridSearchCV(svmclf, svmparams, cv = 5, verbose=1)\n",
    "clf.fit(X_train_pca, y_train)\n",
    "\n",
    "_b_clf = clf.best_estimator_\n",
    "print (\"The best params are {}\".format(clf.best_params_))\n",
    "print (\"The corresponding cross validated score is {}\".format(clf.best_score_))\n",
    "\n",
    "y_pred = _b_clf.predict(X_test_pca)\n",
    "print (\"The SVM classification score for the testing set is {}\".format(_b_clf.score(X_test_pca, y_test)))"
   ]
  },
  {
   "cell_type": "markdown",
   "metadata": {},
   "source": [
    "<!--我们可以查看这个分类器的分类详情：-->\n",
    "Let's see the classification report and confusion matrix,"
   ]
  },
  {
   "cell_type": "code",
   "execution_count": 36,
   "metadata": {},
   "outputs": [
    {
     "name": "stdout",
     "output_type": "stream",
     "text": [
      "Classification report:\n",
      "                   precision    recall  f1-score   support\n",
      "\n",
      "     Ariel Sharon       0.57      0.81      0.67        16\n",
      "     Colin Powell       0.86      0.89      0.87        66\n",
      "  Donald Rumsfeld       0.60      0.67      0.63        27\n",
      "    George W Bush       0.86      0.84      0.85       140\n",
      "Gerhard Schroeder       0.58      0.58      0.58        24\n",
      "      Hugo Chavez       0.80      0.71      0.75        17\n",
      "   Jacques Chirac       0.50      0.40      0.44        10\n",
      "    Jean Chretien       0.85      0.79      0.81        14\n",
      "    John Ashcroft       0.82      0.88      0.85        16\n",
      "Junichiro Koizumi       0.82      0.82      0.82        11\n",
      "  Serena Williams       0.88      0.78      0.82         9\n",
      "       Tony Blair       0.69      0.62      0.66        40\n",
      "\n",
      "      avg / total       0.78      0.78      0.78       390\n",
      "\n",
      "Confusion matrix:\n",
      "[[ 13   1   1   0   0   0   0   0   0   0   0   1]\n",
      " [  3  59   0   3   0   0   1   0   0   0   0   0]\n",
      " [  2   0  18   3   0   0   1   0   2   0   0   1]\n",
      " [  3   2   8 117   2   0   1   2   0   1   1   3]\n",
      " [  0   0   2   3  14   1   0   0   1   0   0   3]\n",
      " [  1   2   0   1   0  12   0   0   0   0   0   1]\n",
      " [  0   1   0   2   3   0   4   0   0   0   0   0]\n",
      " [  0   1   1   0   0   0   0  11   0   0   0   1]\n",
      " [  0   0   0   0   0   1   0   0  14   0   0   1]\n",
      " [  0   1   0   0   0   0   1   0   0   9   0   0]\n",
      " [  0   1   0   0   0   0   0   0   0   1   7   0]\n",
      " [  1   1   0   7   5   1   0   0   0   0   0  25]]\n"
     ]
    }
   ],
   "source": [
    "from sklearn.metrics import classification_report, confusion_matrix\n",
    "print (\"Classification report:\")\n",
    "print (classification_report(y_test, y_pred, target_names = name))\n",
    "print (\"Confusion matrix:\")\n",
    "print (confusion_matrix(y_test, y_pred))"
   ]
  },
  {
   "cell_type": "markdown",
   "metadata": {},
   "source": [
    "同样，我们也可以看看预测结果的前几个图像"
   ]
  },
  {
   "cell_type": "code",
   "execution_count": 37,
   "metadata": {},
   "outputs": [
    {
     "data": {
      "image/png": "[encoded data removed]",
      "text/plain": [
       "<Figure size 720x432 with 8 Axes>"
      ]
     },
     "metadata": {
      "needs_background": "light"
     },
     "output_type": "display_data"
    }
   ],
   "source": [
    "plt.figure(figsize=(10,6))\n",
    "plt.subplots_adjust(bottom=0.01)\n",
    "for i in range(8):\n",
    "    plt.subplot(2, 4, i + 1)\n",
    "    plt.imshow(X_test[i, :].reshape(imgsize), cmap=plt.cm.gray)\n",
    "    plt.title(\"Real: {}\\nPred: {}\".format(name[y_test[i]], name[y_pred[i]]))\n",
    "    plt.axis('off')\n",
    "plt.show()"
   ]
  },
  {
   "cell_type": "markdown",
   "metadata": {},
   "source": [
    "### Release Code for Face Recognition"
   ]
  },
  {
   "cell_type": "code",
   "execution_count": 38,
   "metadata": {},
   "outputs": [
    {
     "name": "stdout",
     "output_type": "stream",
     "text": [
      "Generated samples: 1560\n",
      "Features for each sample: 1850\n",
      "Image size for each sample: (50, 37)\n",
      "Total classes: 12\n",
      "['Ariel Sharon' 'Colin Powell' 'Donald Rumsfeld' 'George W Bush'\n",
      " 'Gerhard Schroeder' 'Hugo Chavez' 'Jacques Chirac' 'Jean Chretien'\n",
      " 'John Ashcroft' 'Junichiro Koizumi' 'Serena Williams' 'Tony Blair']\n"
     ]
    },
    {
     "data": {
      "image/png": "[encoded data removed]",
      "text/plain": [
       "<Figure size 1080x288 with 4 Axes>"
      ]
     },
     "metadata": {
      "needs_background": "light"
     },
     "output_type": "display_data"
    },
    {
     "name": "stdout",
     "output_type": "stream",
     "text": [
      "Fitting 5 folds for each of 15 candidates, totalling 75 fits\n"
     ]
    },
    {
     "name": "stderr",
     "output_type": "stream",
     "text": [
      "[Parallel(n_jobs=1)]: Done  75 out of  75 | elapsed:   15.6s finished\n"
     ]
    },
    {
     "name": "stdout",
     "output_type": "stream",
     "text": [
      "The best params are {'C': 1000.0, 'gamma': 0.0001}\n",
      "The corresponding cross validated score is 0.7521367521367521\n",
      "The SVM classification score for the testing set is 0.7717948717948718\n",
      "Classification report:\n",
      "                   precision    recall  f1-score   support\n",
      "\n",
      "     Ariel Sharon       0.59      0.81      0.68        16\n",
      "     Colin Powell       0.83      0.91      0.87        66\n",
      "  Donald Rumsfeld       0.60      0.67      0.63        27\n",
      "    George W Bush       0.85      0.83      0.84       140\n",
      "Gerhard Schroeder       0.60      0.50      0.55        24\n",
      "      Hugo Chavez       0.80      0.71      0.75        17\n",
      "   Jacques Chirac       0.67      0.40      0.50        10\n",
      "    Jean Chretien       0.85      0.79      0.81        14\n",
      "    John Ashcroft       0.78      0.88      0.82        16\n",
      "Junichiro Koizumi       0.82      0.82      0.82        11\n",
      "  Serena Williams       0.88      0.78      0.82         9\n",
      "       Tony Blair       0.64      0.62      0.63        40\n",
      "\n",
      "      avg / total       0.77      0.77      0.77       390\n",
      "\n",
      "Confusion matrix:\n",
      "[[ 13   1   1   0   0   0   0   0   0   0   0   1]\n",
      " [  2  60   0   4   0   0   0   0   0   0   0   0]\n",
      " [  1   0  18   3   0   0   1   0   2   0   0   2]\n",
      " [  4   4   7 116   2   0   0   2   0   1   1   3]\n",
      " [  0   0   3   3  12   1   0   0   1   0   0   4]\n",
      " [  1   2   0   1   0  12   0   0   0   0   0   1]\n",
      " [  0   1   0   2   2   0   4   0   0   0   0   1]\n",
      " [  0   1   1   0   0   0   0  11   0   0   0   1]\n",
      " [  0   0   0   0   0   1   0   0  14   0   0   1]\n",
      " [  0   1   0   0   0   0   1   0   0   9   0   0]\n",
      " [  0   1   0   0   0   0   0   0   0   1   7   0]\n",
      " [  1   1   0   7   4   1   0   0   1   0   0  25]]\n"
     ]
    },
    {
     "data": {
      "image/png": "[encoded data removed]",
      "text/plain": [
       "<Figure size 720x432 with 8 Axes>"
      ]
     },
     "metadata": {
      "needs_background": "light"
     },
     "output_type": "display_data"
    }
   ],
   "source": [
    "from sklearn.datasets import fetch_lfw_people\n",
    "import numpy as np\n",
    "from matplotlib import pyplot as plt\n",
    "%matplotlib inline\n",
    "from sklearn.model_selection import train_test_split\n",
    "from sklearn.preprocessing import StandardScaler\n",
    "from sklearn.decomposition import PCA\n",
    "from sklearn.metrics import classification_report, confusion_matrix\n",
    "from sklearn.model_selection import GridSearchCV\n",
    "from sklearn import svm\n",
    "\n",
    "# Load Data\n",
    "lfw_people = fetch_lfw_people(min_faces_per_person=50, resize=0.4)\n",
    "\n",
    "X = lfw_people.data\n",
    "y = lfw_people.target\n",
    "name = lfw_people.target_names\n",
    "images = lfw_people.images\n",
    "imgsize = images.shape[1:]\n",
    "\n",
    "print (\"Generated samples: {}\".format(X.shape[0]))\n",
    "print (\"Features for each sample: {}\".format(X.shape[1]))\n",
    "print (\"Image size for each sample: {}\".format(imgsize))\n",
    "print (\"Total classes: {}\".format(len(np.unique(y))))\n",
    "print (name)\n",
    "\n",
    "\n",
    "# Show the first 4 person in the data\n",
    "plt.figure(figsize=(15, 4))\n",
    "for i in range(4):\n",
    "    plt.subplot(1, 4, i + 1)\n",
    "    plt.imshow(images[i, :, :], cmap=plt.cm.gray)\n",
    "    plt.title(name[y[i]])\n",
    "    plt.axis('off')\n",
    "plt.show()\n",
    "\n",
    "# Standardize data\n",
    "scaler = StandardScaler().fit(X)\n",
    "X = scaler.transform(X)\n",
    "\n",
    "# Train Test Split\n",
    "X_train, X_test, y_train, y_test = train_test_split(\n",
    "    X, y, test_size = 0.25, random_state = 42)\n",
    "\n",
    "# PCA\n",
    "n_compoents = 50\n",
    "pca = PCA(n_compoents).fit(X)\n",
    "\n",
    "X_train_pca = pca.transform(X_train)\n",
    "X_test_pca = pca.transform(X_test)\n",
    "\n",
    "# PCA Plot\n",
    "\n",
    "# eigenfaces = pca.components_.reshape((n_compoents, imgsize[0], imgsize[1]))\n",
    "# plt.figure(figsize=(15, 4))\n",
    "# for i in range(4):\n",
    "#     plt.subplot(1, 4, i + 1)\n",
    "#     plt.imshow(eigenfaces[i], cmap=plt.cm.gray)\n",
    "#     plt.title(\"Eigen face {}\".format(i))\n",
    "#     plt.axis('off')\n",
    "# plt.show()\n",
    "\n",
    "\n",
    "# GridSeearchCV\n",
    "svmparams = {'C': [1e3, 5e3, 1e4, 5e4, 1e5], 'gamma':[0.0001, 0.001, 0.01]}\n",
    "svmclf = svm.SVC(kernel='rbf')\n",
    "\n",
    "\n",
    "clf = GridSearchCV(svmclf, svmparams, cv = 5, verbose=1)\n",
    "clf.fit(X_train_pca, y_train)\n",
    "\n",
    "_b_clf = clf.best_estimator_\n",
    "print (\"The best params are {}\".format(clf.best_params_))\n",
    "print (\"The corresponding cross validated score is {}\".format(clf.best_score_))\n",
    "\n",
    "y_pred = _b_clf.predict(X_test_pca)\n",
    "print (\"The SVM classification score for the testing set is {}\".format(_b_clf.score(X_test_pca, y_test)))\n",
    "\n",
    "print (\"Classification report:\")\n",
    "print (classification_report(y_test, y_pred, target_names = name))\n",
    "print (\"Confusion matrix:\")\n",
    "print (confusion_matrix(y_test, y_pred))\n",
    "\n",
    "plt.figure(figsize=(10,6))\n",
    "plt.subplots_adjust(bottom=0.01)\n",
    "for i in range(8):\n",
    "    plt.subplot(2, 4, i + 1)\n",
    "    plt.imshow(X_test[i, :].reshape(imgsize), cmap=plt.cm.gray)\n",
    "    plt.title(\"Real: {}\\nPred: {}\".format(name[y_test[i]], name[y_pred[i]]))\n",
    "    plt.axis('off')\n",
    "plt.show()"
   ]
  },
  {
   "cell_type": "markdown",
   "metadata": {},
   "source": [
    "***\n",
    "\n",
    "## <!--使用总结-->Summary\n",
    "\n",
    "<!--机器学习方法的基本使用流程分为3块-->\n",
    "There are mainly three components in Scikit-Learn machine learning:\n",
    "    \n",
    "<!--+ 数据预处理\n",
    "    + 加载数据\n",
    "        + <font color=#0099ff>load_data()</font>\n",
    "    + 数据变形(如适用)：把数据处理成适合分类器的形状，比如，一个样本的特征用一个向量表示。\n",
    "        + <font color=#0099ff>reshape()</font>\n",
    "    + 数据标准化：标准化数据可以使数据的分布均值为0，方差为1 （高斯分布）\n",
    "        + <font color=#0099ff>StandardScaler()</font>\n",
    "    + 生成训练集与测试集\n",
    "        + <font color=#0099ff>train_test_split()</font>\n",
    "+ 训练分类器\n",
    "    + <font color=#0099ff>GridSearchCV(Classifier, params)</font>\n",
    "+ 输出结果\n",
    "    + <font color=#0099ff>classification_report()</font>\n",
    "    + <font color=#0099ff>confusion_matrix()</font>\n",
    "    + <font color=red>(Opt)</font> <font color=#0099ff>imshow()</font>-->\n",
    "    \n",
    "    \n",
    "+ **Data Processing**\n",
    "    + Load data\n",
    "        + <font color=#0099ff>load_data()</font>\n",
    "    + <font color=red>(Opt)</font> Switch data shape\n",
    "        + <font color=#0099ff>reshape()</font>\n",
    "    + Standardization\n",
    "        + <font color=#0099ff>StandardScaler()</font>\n",
    "    + Training and testing data\n",
    "        + <font color=#0099ff>train_test_split()</font>\n",
    "+ **Classifier Training**\n",
    "    + <font color=#0099ff>GridSearchCV(Classifier, params)</font>\n",
    "+ **Output showing**\n",
    "    + <font color=#0099ff>classification_report()</font>\n",
    "    + <font color=#0099ff>confusion_matrix()</font>\n",
    "    + <font color=red>(Opt)</font> <font color=#0099ff>imshow()</font>\n",
    " ***"
   ]
  },
  {
   "cell_type": "markdown",
   "metadata": {},
   "source": [
    "***\n",
    "\n",
    "## Other Scikit-Learn Provided Data\n",
    "\n",
    "### Wine\n",
    "+ Classes: 3\n",
    "+ Samples per class: 59, 71, 48\n",
    "+ Samples total: 178\n",
    "+ Dimensionality: 13"
   ]
  },
  {
   "cell_type": "code",
   "execution_count": null,
   "metadata": {},
   "outputs": [],
   "source": [
    "from sklearn.datasets import load_wine\n",
    "Wine = load_wine()\n",
    "X = Wine.data\n",
    "y = Wine.target"
   ]
  },
  {
   "cell_type": "markdown",
   "metadata": {},
   "source": [
    "### Breast Cancer\n",
    "+ Classes: 2\n",
    "+ Samples per class: 212(M), 357(B)\n",
    "+ Samples total: 569\n",
    "+ Dimensionality: 30"
   ]
  },
  {
   "cell_type": "code",
   "execution_count": null,
   "metadata": {},
   "outputs": [],
   "source": [
    "from sklearn.datasets import load_breast_cancer\n",
    "Data = load_breast_cancer()\n",
    "X = Data.data\n",
    "y = Data.target"
   ]
  }
 ],
 "metadata": {
  "kernelspec": {
   "display_name": "Python 3",
   "language": "python",
   "name": "python3"
  },
  "language_info": {
   "codemirror_mode": {
    "name": "ipython",
    "version": 3
   },
   "file_extension": ".py",
   "mimetype": "text/x-python",
   "name": "python",
   "nbconvert_exporter": "python",
   "pygments_lexer": "ipython3",
   "version": "3.6.6"
  }
 },
 "nbformat": 4,
 "nbformat_minor": 2
}
